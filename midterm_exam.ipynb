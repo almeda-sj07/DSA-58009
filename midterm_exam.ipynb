{
  "nbformat": 4,
  "nbformat_minor": 0,
  "metadata": {
    "colab": {
      "provenance": [],
      "authorship_tag": "ABX9TyM6eYCptEshYmhdsTMLszLC",
      "include_colab_link": true
    },
    "kernelspec": {
      "name": "python3",
      "display_name": "Python 3"
    },
    "language_info": {
      "name": "python"
    }
  },
  "cells": [
    {
      "cell_type": "markdown",
      "metadata": {
        "id": "view-in-github",
        "colab_type": "text"
      },
      "source": [
        "<a href=\"https://colab.research.google.com/github/almeda-sj07/DSAA-58009/blob/main/midterm_exam.ipynb\" target=\"_parent\"><img src=\"https://colab.research.google.com/assets/colab-badge.svg\" alt=\"Open In Colab\"/></a>"
      ]
    },
    {
      "cell_type": "markdown",
      "source": [
        "VERTICES"
      ],
      "metadata": {
        "id": "LwcJN1UkP0MW"
      }
    },
    {
      "cell_type": "code",
      "execution_count": 7,
      "metadata": {
        "colab": {
          "base_uri": "https://localhost:8080/"
        },
        "id": "F2eNu1PoH8XS",
        "outputId": "0e9b5a6e-a437-495f-a8eb-d501183ca0d2"
      },
      "outputs": [
        {
          "output_type": "stream",
          "name": "stdout",
          "text": [
            "Vertices of Graph G29: ['A', 'B', 'C', 'D', 'E', 'F', 'G', 'I', 'J', 'K', 'L', 'M', 'N', 'O', 'P']\n"
          ]
        }
      ],
      "source": [
        "class graph:\n",
        "  def __init__ (self, gdict = None):\n",
        "    if gdict is None:\n",
        "      gdict = []\n",
        "    self.gdict = gdict\n",
        "\n",
        "  def vertices (self):\n",
        "    return list(self.gdict.keys())\n",
        "\n",
        "graph_elements = {\n",
        "  'A' : ['B'],\n",
        "  'B' : ['A','C','E','F'],\n",
        "  'C' : ['B','D','E','F','I','M'],\n",
        "  'D' : ['C','K','L'],\n",
        "  'E' : ['B','C','N'],\n",
        "  'F' : ['B','C','G','I'],\n",
        "  'G' : ['F','I','J'],\n",
        "  'I' : ['C','F','G','J','K'],\n",
        "  'J' : ['G','I','K'],\n",
        "  'K' : ['D','I','J'],\n",
        "  'L' : ['D','M','P'],\n",
        "  'M' : ['C','L','N','O','P'],\n",
        "  'N' : ['E','M','O'],\n",
        "  'O' : ['M','N','P'],\n",
        "  'P' : ['L','M','O'],\n",
        "}\n",
        "g = graph(graph_elements)\n",
        "print(\"Vertices of Graph G29:\",g.vertices())"
      ]
    },
    {
      "cell_type": "markdown",
      "source": [
        "EDGES"
      ],
      "metadata": {
        "id": "_jpNP4qDP3cV"
      }
    },
    {
      "cell_type": "code",
      "source": [
        "class graph:\n",
        "  def __init__(self, gdict = None):\n",
        "    if gdict is None:\n",
        "      gdict = {}\n",
        "    self.gdict = gdict\n",
        "\n",
        "  def edges(self):\n",
        "    edgename = []\n",
        "    for vrtx in self.gdict:\n",
        "      for nxtvrtx in self.gdict[vrtx]:\n",
        "        if {nxtvrtx, vrtx} not in edgename:\n",
        "          edgename.append({vrtx, nxtvrtx})\n",
        "    return edgename\n",
        "\n",
        "graph_elements = {\n",
        "  'A' : ['B'],\n",
        "  'B' : ['A','C','E','F'],\n",
        "  'C' : ['B','D','E','F','I','M'],\n",
        "  'D' : ['C','K','L'],\n",
        "  'E' : ['B','C','N'],\n",
        "  'F' : ['B','C','G','I'],\n",
        "  'G' : ['F','I','J'],\n",
        "  'I' : ['C','F','G','J','K'],\n",
        "  'J' : ['G','I','K'],\n",
        "  'K' : ['D','I','J'],\n",
        "  'L' : ['D','M','P'],\n",
        "  'M' : ['C','L','N','O','P'],\n",
        "  'N' : ['E','M','O'],\n",
        "  'O' : ['M','N','P'],\n",
        "  'P' : ['L','M','O'],\n",
        "}\n",
        "g = graph(graph_elements)\n",
        "print(\"Edges of Graph G29:\",g.edges())"
      ],
      "metadata": {
        "colab": {
          "base_uri": "https://localhost:8080/"
        },
        "id": "9Sj-RZG3MWKe",
        "outputId": "47b11147-948a-46f2-d582-5d9ff22b470d"
      },
      "execution_count": 8,
      "outputs": [
        {
          "output_type": "stream",
          "name": "stdout",
          "text": [
            "Edges of Graph G29: [{'A', 'B'}, {'B', 'C'}, {'E', 'B'}, {'B', 'F'}, {'D', 'C'}, {'E', 'C'}, {'C', 'F'}, {'I', 'C'}, {'M', 'C'}, {'D', 'K'}, {'L', 'D'}, {'E', 'N'}, {'G', 'F'}, {'I', 'F'}, {'G', 'I'}, {'J', 'G'}, {'J', 'I'}, {'I', 'K'}, {'J', 'K'}, {'M', 'L'}, {'L', 'P'}, {'M', 'N'}, {'O', 'M'}, {'M', 'P'}, {'O', 'N'}, {'O', 'P'}]\n"
          ]
        }
      ]
    }
  ]
}
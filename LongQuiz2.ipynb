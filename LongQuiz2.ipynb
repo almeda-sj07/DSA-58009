{
  "nbformat": 4,
  "nbformat_minor": 0,
  "metadata": {
    "colab": {
      "provenance": [],
      "authorship_tag": "ABX9TyPJt5FOcWh/xF8smEarNc9U",
      "include_colab_link": true
    },
    "kernelspec": {
      "name": "python3",
      "display_name": "Python 3"
    },
    "language_info": {
      "name": "python"
    }
  },
  "cells": [
    {
      "cell_type": "markdown",
      "metadata": {
        "id": "view-in-github",
        "colab_type": "text"
      },
      "source": [
        "<a href=\"https://colab.research.google.com/github/almeda-sj07/DSAA-58009/blob/main/LongQuiz2.ipynb\" target=\"_parent\"><img src=\"https://colab.research.google.com/assets/colab-badge.svg\" alt=\"Open In Colab\"/></a>"
      ]
    },
    {
      "cell_type": "markdown",
      "source": [
        "Vertices"
      ],
      "metadata": {
        "id": "968Q4ckMyc2M"
      }
    },
    {
      "cell_type": "code",
      "execution_count": 5,
      "metadata": {
        "colab": {
          "base_uri": "https://localhost:8080/"
        },
        "id": "zu27_dETqUUt",
        "outputId": "ebc510cd-f575-4a77-f371-e698bd73a4c9"
      },
      "outputs": [
        {
          "output_type": "stream",
          "name": "stdout",
          "text": [
            "Vertices of Graph G28: ['E', 'F', 'H', 'I', 'J', 'K', 'M', 'P']\n"
          ]
        }
      ],
      "source": [
        "class graph:\n",
        "  def __init__ (self, gdict = None):\n",
        "    if gdict is None:\n",
        "      gdict = []\n",
        "    self.gdict = gdict\n",
        "\n",
        "  def getVertices (self):\n",
        "    return list(self.gdict.keys())\n",
        "\n",
        "graph_elements = {\n",
        "    'E' : ['I','J','K','M'],\n",
        "    'F' : ['I','J','K','P'],\n",
        "    'H' : ['I','J','K'],\n",
        "    'I' : ['E','F','H'],\n",
        "    'J' : ['E','F','H'],\n",
        "    'K' : ['E','F','H'],\n",
        "    'M' : ['E'],\n",
        "    'P' : ['F']\n",
        "}\n",
        "g = graph(graph_elements)\n",
        "print(\"Vertices of Graph G28:\",g.getVertices())"
      ]
    },
    {
      "cell_type": "markdown",
      "source": [
        "Edges"
      ],
      "metadata": {
        "id": "Ik1rNHSJyfdx"
      }
    },
    {
      "cell_type": "code",
      "source": [
        "class graph:\n",
        "  def __init__(self, gdict = None):\n",
        "    if gdict is None:\n",
        "      gdict = {}\n",
        "    self.gdict = gdict\n",
        "  def edges(self):\n",
        "    return self.findedges()\n",
        "\n",
        "  def findedges(self):\n",
        "    edgename = []\n",
        "    for vrtx in self.gdict:\n",
        "      for nxtvrtx in self.gdict[vrtx]:\n",
        "        if {nxtvrtx, vrtx} not in edgename:\n",
        "          edgename.append({vrtx, nxtvrtx})\n",
        "    return edgename\n",
        "\n",
        "graph_elements = {\n",
        "    'E' : ['I','J','K','M'],\n",
        "    'F' : ['I','J','K','P'],\n",
        "    'H' : ['I','J','K'],\n",
        "    'I' : ['E','F','H'],\n",
        "    'J' : ['E','F','H'],\n",
        "    'K' : ['E','F','H'],\n",
        "    'M' : ['E'],\n",
        "    'P' : ['F']\n",
        "}\n",
        "g = graph(graph_elements)\n",
        "print(\"Edges of Graph G28:\",g.edges())"
      ],
      "metadata": {
        "colab": {
          "base_uri": "https://localhost:8080/"
        },
        "id": "I3OO819LwWMc",
        "outputId": "3f86a2d5-fd75-4250-a4be-c558e1c5b0c4"
      },
      "execution_count": 6,
      "outputs": [
        {
          "output_type": "stream",
          "name": "stdout",
          "text": [
            "Edges of Graph G28: [{'I', 'E'}, {'E', 'J'}, {'E', 'K'}, {'E', 'M'}, {'I', 'F'}, {'F', 'J'}, {'F', 'K'}, {'F', 'P'}, {'I', 'H'}, {'J', 'H'}, {'H', 'K'}]\n"
          ]
        }
      ]
    }
  ]
}
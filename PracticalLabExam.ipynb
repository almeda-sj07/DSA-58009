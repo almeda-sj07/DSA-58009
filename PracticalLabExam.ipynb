{
  "nbformat": 4,
  "nbformat_minor": 0,
  "metadata": {
    "colab": {
      "provenance": [],
      "authorship_tag": "ABX9TyNEFuIIndBym6PPsXptyUti",
      "include_colab_link": true
    },
    "kernelspec": {
      "name": "python3",
      "display_name": "Python 3"
    },
    "language_info": {
      "name": "python"
    }
  },
  "cells": [
    {
      "cell_type": "markdown",
      "metadata": {
        "id": "view-in-github",
        "colab_type": "text"
      },
      "source": [
        "<a href=\"https://colab.research.google.com/github/almeda-sj07/DSA-58009/blob/main/PracticalLabExam.ipynb\" target=\"_parent\"><img src=\"https://colab.research.google.com/assets/colab-badge.svg\" alt=\"Open In Colab\"/></a>"
      ]
    },
    {
      "cell_type": "code",
      "execution_count": null,
      "metadata": {
        "colab": {
          "base_uri": "https://localhost:8080/"
        },
        "id": "APQH5bzmW50c",
        "outputId": "ffc8d0f6-d7d2-461b-b4bc-782968686485"
      },
      "outputs": [
        {
          "output_type": "stream",
          "name": "stdout",
          "text": [
            "26 is an even number.\n",
            "98 is an even number.\n",
            "62 is an even number.\n",
            "The total of odd test scores is 211 .\n"
          ]
        }
      ],
      "source": [
        "total = 0\n",
        "testscores = [26,49,98,87,62,75]\n",
        "for x in testscores:\n",
        "  if x % 2 == 1:\n",
        "    total = total + x\n",
        "  else:\n",
        "    print(x,\"is an even number.\")\n",
        "print(\"The total of odd test scores is\",total,\".\")"
      ]
    }
  ]
}
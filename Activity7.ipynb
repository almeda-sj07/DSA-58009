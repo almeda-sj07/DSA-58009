{
  "nbformat": 4,
  "nbformat_minor": 0,
  "metadata": {
    "colab": {
      "provenance": [],
      "authorship_tag": "ABX9TyPONnb7/ChhlePLtCPv2B80",
      "include_colab_link": true
    },
    "kernelspec": {
      "name": "python3",
      "display_name": "Python 3"
    },
    "language_info": {
      "name": "python"
    }
  },
  "cells": [
    {
      "cell_type": "markdown",
      "metadata": {
        "id": "view-in-github",
        "colab_type": "text"
      },
      "source": [
        "<a href=\"https://colab.research.google.com/github/almeda-sj07/DSAA-58009/blob/main/Activity7.ipynb\" target=\"_parent\"><img src=\"https://colab.research.google.com/assets/colab-badge.svg\" alt=\"Open In Colab\"/></a>"
      ]
    },
    {
      "cell_type": "markdown",
      "source": [
        "Vertices and Edges of Graph 18"
      ],
      "metadata": {
        "id": "Fd_GTfvkXpto"
      }
    },
    {
      "cell_type": "code",
      "execution_count": 21,
      "metadata": {
        "colab": {
          "base_uri": "https://localhost:8080/"
        },
        "id": "VgvPTHqHL6Hi",
        "outputId": "5e9c0dd0-1fa1-4402-f3be-77c1924efbfa"
      },
      "outputs": [
        {
          "output_type": "stream",
          "name": "stdout",
          "text": [
            "Vertices: [1, 2, 3, 4, 5, 6]\n"
          ]
        }
      ],
      "source": [
        "#Display Graph Vertices\n",
        "\n",
        "class graph:\n",
        "  def __init__ (self, gdict = None):\n",
        "    if gdict is None:\n",
        "      gdict = []\n",
        "    self.gdict = gdict\n",
        "\n",
        "#Get the keys of the dictionary\n",
        "  def getVertices (self):\n",
        "    return list(self.gdict.keys())\n",
        "\n",
        "#Create the dictionary with the graph elements\n",
        "graph_elements = {\n",
        "    1 : [2,3,5,6],\n",
        "    2 : [1,3,4,5,6],\n",
        "    3 : [1,2,4,5],\n",
        "    4 : [2,3],\n",
        "    5 : [1,2,3],\n",
        "    6 : [1,2]\n",
        "}\n",
        "g = graph(graph_elements)\n",
        "print(\"Vertices:\",g.getVertices())"
      ]
    },
    {
      "cell_type": "code",
      "source": [
        "#Display Graph Edges\n",
        "\n",
        "class graph:\n",
        "  def __init__(self, gdict = None):\n",
        "    if gdict is None:\n",
        "      gdict = {}\n",
        "    self.gdict = gdict\n",
        "  def edges(self):\n",
        "    return self.findedges()\n",
        "\n",
        "#Find the distinct list of edges\n",
        "  def findedges(self):\n",
        "    edgename = []\n",
        "    for vrtx in self.gdict:\n",
        "      for nxtvrtx in self.gdict[vrtx]:\n",
        "        if {nxtvrtx, vrtx} not in edgename:\n",
        "          edgename.append({vrtx, nxtvrtx})\n",
        "    return edgename\n",
        "\n",
        "#Create the dictionary with the graph elements\n",
        "graph_elements = {\n",
        "    1 : [2,3,5,6],\n",
        "    2 : [1,3,4,5,6],\n",
        "    3 : [1,2,4,5],\n",
        "    4 : [2,3],\n",
        "    5 : [1,2,3],\n",
        "    6 : [1,2]\n",
        "}\n",
        "g = graph(graph_elements)\n",
        "print(\"Edges:\",g.edges())"
      ],
      "metadata": {
        "colab": {
          "base_uri": "https://localhost:8080/"
        },
        "id": "kaTdXVn6NdEm",
        "outputId": "e7811cd9-bb6e-4f79-80a8-2ba846985701"
      },
      "execution_count": 22,
      "outputs": [
        {
          "output_type": "stream",
          "name": "stdout",
          "text": [
            "Edges: [{1, 2}, {1, 3}, {1, 5}, {1, 6}, {2, 3}, {2, 4}, {2, 5}, {2, 6}, {3, 4}, {3, 5}]\n"
          ]
        }
      ]
    }
  ]
}
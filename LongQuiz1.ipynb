{
  "nbformat": 4,
  "nbformat_minor": 0,
  "metadata": {
    "colab": {
      "provenance": [],
      "authorship_tag": "ABX9TyMQSCM8I1LN/7bCcxDpYlvE",
      "include_colab_link": true
    },
    "kernelspec": {
      "name": "python3",
      "display_name": "Python 3"
    },
    "language_info": {
      "name": "python"
    }
  },
  "cells": [
    {
      "cell_type": "markdown",
      "metadata": {
        "id": "view-in-github",
        "colab_type": "text"
      },
      "source": [
        "<a href=\"https://colab.research.google.com/github/almeda-sj07/DSAA-58009/blob/main/LongQuiz1.ipynb\" target=\"_parent\"><img src=\"https://colab.research.google.com/assets/colab-badge.svg\" alt=\"Open In Colab\"/></a>"
      ]
    },
    {
      "cell_type": "markdown",
      "source": [
        "Create a python or C++ program that appends each character of your full name and displays each character in reverse order (50 points)"
      ],
      "metadata": {
        "id": "ebbewEHP5w_x"
      }
    },
    {
      "cell_type": "code",
      "execution_count": 107,
      "metadata": {
        "colab": {
          "base_uri": "https://localhost:8080/"
        },
        "id": "hKqRFjBByaKD",
        "outputId": "71bd0616-793f-4f91-b135-07d48600e781"
      },
      "outputs": [
        {
          "output_type": "stream",
          "name": "stdout",
          "text": [
            "['S', 't', 'e', 'p', 'h', 'a', 'n', 'i', 'e', 'J', 'o', 'y', 'G', '.', 'A', 'l', 'm', 'e', 'd', 'a']\n"
          ]
        }
      ],
      "source": [
        "name = []\n",
        "name.append('S')\n",
        "name.append('t')\n",
        "name.append('e')\n",
        "name.append('p')\n",
        "name.append('h')\n",
        "name.append('a')\n",
        "name.append('n')\n",
        "name.append('i')\n",
        "name.append('e')\n",
        "name.append('J')\n",
        "name.append('o')\n",
        "name.append('y')\n",
        "name.append('G')\n",
        "name.append('.')\n",
        "name.append('A')\n",
        "name.append('l')\n",
        "name.append('m')\n",
        "name.append('e')\n",
        "name.append('d')\n",
        "name.append('a')\n",
        "print(name)"
      ]
    },
    {
      "cell_type": "code",
      "source": [
        "name.reverse()\n",
        "print(name)"
      ],
      "metadata": {
        "colab": {
          "base_uri": "https://localhost:8080/"
        },
        "id": "Pjfy70xxJbfT",
        "outputId": "338bf5e1-687e-4c06-a076-dee6544ca4d8"
      },
      "execution_count": 108,
      "outputs": [
        {
          "output_type": "stream",
          "name": "stdout",
          "text": [
            "['a', 'd', 'e', 'm', 'l', 'A', '.', 'G', 'y', 'o', 'J', 'e', 'i', 'n', 'a', 'h', 'p', 'e', 't', 'S']\n"
          ]
        }
      ]
    },
    {
      "cell_type": "markdown",
      "source": [
        "Using the set of positive whole numbers from 1 to 10, create a python or C++ program that displays if it is prime or composite. (50 points)"
      ],
      "metadata": {
        "id": "8qADa4ua5zwZ"
      }
    },
    {
      "cell_type": "code",
      "source": [
        "class Node:\n",
        "  def __init__ (self,data):\n",
        "    self.data = data\n",
        "    self.next = None\n",
        "\n",
        "class LinkedList:\n",
        "  def __init__ (self):\n",
        "    self.head = None\n",
        "    self.tail = None\n",
        "\n",
        "  def prcom(self,num):\n",
        "    if num > 1:\n",
        "      for i in range(2,num):\n",
        "        if (num % i) == 0:\n",
        "          print(num, \"is a composite number\")\n",
        "          break\n",
        "        else:\n",
        "          print(num, \"is a prime number\")\n",
        "          break\n",
        "    if num == 1:\n",
        "      print(num, \"is a neither prime nor composite number\")\n",
        "\n",
        "  def prcom_nodes(self,limit):\n",
        "    for num in range(1,limit):\n",
        "      if self.prcom(num):\n",
        "        prcom_node = Node(num)\n",
        "        if not self.head:\n",
        "          self.head = prcom_node\n",
        "          self.tail = prcom_node\n",
        "        else:\n",
        "          self.tail.next = prcom_node\n",
        "          self.tail = prcom_node\n",
        "  def printlist(self):\n",
        "    temp = self.head\n",
        "    while temp:\n",
        "      print(temp.data)\n",
        "      temp = temp.next\n",
        "\n",
        "llist = LinkedList()\n",
        "limit = 11\n",
        "llist.prcom_nodes(limit)\n",
        "\n",
        "llist.printlist()"
      ],
      "metadata": {
        "colab": {
          "base_uri": "https://localhost:8080/"
        },
        "id": "9JZJ707r50fx",
        "outputId": "9c1ae7e4-c825-47f9-a11e-78264e6468f6"
      },
      "execution_count": 129,
      "outputs": [
        {
          "output_type": "stream",
          "name": "stdout",
          "text": [
            "1 is a neither prime nor composite number\n",
            "3 is a prime number\n",
            "4 is a composite number\n",
            "5 is a prime number\n",
            "6 is a composite number\n",
            "7 is a prime number\n",
            "8 is a composite number\n",
            "9 is a prime number\n",
            "10 is a composite number\n"
          ]
        }
      ]
    }
  ]
}
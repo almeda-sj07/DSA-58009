{
  "nbformat": 4,
  "nbformat_minor": 0,
  "metadata": {
    "colab": {
      "provenance": [],
      "authorship_tag": "ABX9TyN272dWdFPgdfYw1/NjMrWv",
      "include_colab_link": true
    },
    "kernelspec": {
      "name": "python3",
      "display_name": "Python 3"
    },
    "language_info": {
      "name": "python"
    }
  },
  "cells": [
    {
      "cell_type": "markdown",
      "metadata": {
        "id": "view-in-github",
        "colab_type": "text"
      },
      "source": [
        "<a href=\"https://colab.research.google.com/github/almeda-sj07/DSA-58009/blob/main/Activity2.ipynb\" target=\"_parent\"><img src=\"https://colab.research.google.com/assets/colab-badge.svg\" alt=\"Open In Colab\"/></a>"
      ]
    },
    {
      "cell_type": "markdown",
      "source": [
        "Write a Python program to create a singly linked list of prime numbers less than 20. By iterating through the list, display all the prime numbers, the head, and the tail of the list."
      ],
      "metadata": {
        "id": "Rv4_8A8swmuN"
      }
    },
    {
      "cell_type": "code",
      "execution_count": 10,
      "metadata": {
        "id": "t1XyEWvnrhiN",
        "colab": {
          "base_uri": "https://localhost:8080/"
        },
        "outputId": "ccff9ade-1d35-4caa-85d6-b5f3cd40fa10"
      },
      "outputs": [
        {
          "output_type": "stream",
          "name": "stdout",
          "text": [
            "2\n",
            "3\n",
            "5\n",
            "7\n",
            "11\n",
            "13\n",
            "17\n",
            "19\n",
            "Head: 2\n",
            "Tail: 19\n"
          ]
        }
      ],
      "source": [
        "class Node:\n",
        "  def __init__ (self,data):\n",
        "    self.data = data\n",
        "    self.next = None\n",
        "\n",
        "class LinkedList:\n",
        "  def __init__ (self):\n",
        "    self.head = None\n",
        "    self.tail = None\n",
        "\n",
        "  def prime(self,num):\n",
        "    if num<2:\n",
        "      return False\n",
        "    for i in range(2,int(num**0.5)+1):\n",
        "      if num%i==0:\n",
        "        return False\n",
        "    return True\n",
        "  def pr_nodes(self,limit):\n",
        "    for num in range(2,limit):\n",
        "      if self.prime(num):\n",
        "        p_node = Node(num)\n",
        "        if not self.head:\n",
        "          self.head = p_node\n",
        "          self.tail = p_node\n",
        "        else:\n",
        "          self.tail.next = p_node\n",
        "          self.tail = p_node\n",
        "  def printlist(self):\n",
        "    temp = self.head\n",
        "    while temp:\n",
        "      print(temp.data)\n",
        "      temp = temp.next\n",
        "\n",
        "llist = LinkedList()\n",
        "limit = 20\n",
        "llist.pr_nodes(limit)\n",
        "\n",
        "llist.printlist()\n",
        "print(\"Head:\", llist.head.data)\n",
        "print(\"Tail:\", llist.tail.data)"
      ]
    }
  ]
}
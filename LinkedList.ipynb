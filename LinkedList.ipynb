{
  "nbformat": 4,
  "nbformat_minor": 0,
  "metadata": {
    "colab": {
      "provenance": [],
      "authorship_tag": "ABX9TyPxZRNvpByoTCwCZPcvJGNu",
      "include_colab_link": true
    },
    "kernelspec": {
      "name": "python3",
      "display_name": "Python 3"
    },
    "language_info": {
      "name": "python"
    }
  },
  "cells": [
    {
      "cell_type": "markdown",
      "metadata": {
        "id": "view-in-github",
        "colab_type": "text"
      },
      "source": [
        "<a href=\"https://colab.research.google.com/github/almeda-sj07/DSA-58009/blob/main/LinkedList.ipynb\" target=\"_parent\"><img src=\"https://colab.research.google.com/assets/colab-badge.svg\" alt=\"Open In Colab\"/></a>"
      ]
    },
    {
      "cell_type": "markdown",
      "source": [
        "Array"
      ],
      "metadata": {
        "id": "kzjiABXg3lbI"
      }
    },
    {
      "cell_type": "code",
      "execution_count": 12,
      "metadata": {
        "id": "Tw09VxdFaVKP",
        "colab": {
          "base_uri": "https://localhost:8080/",
          "height": 35
        },
        "outputId": "3705b117-41be-414f-ef24-9cbe384bd639"
      },
      "outputs": [
        {
          "output_type": "execute_result",
          "data": {
            "text/plain": [
              "'i'"
            ],
            "application/vnd.google.colaboratory.intrinsic+json": {
              "type": "string"
            }
          },
          "metadata": {},
          "execution_count": 12
        }
      ],
      "source": [
        "import array\n",
        "array.typecodes\n",
        "\n",
        "a = array.array('i', [1,2,3,4,5,6])\n",
        "b = array.array('f', [1.5,2.5,3.5,4.5,5.5,6.5])\n",
        "\n",
        "a.typecode"
      ]
    },
    {
      "cell_type": "code",
      "source": [
        "b.typecode"
      ],
      "metadata": {
        "colab": {
          "base_uri": "https://localhost:8080/",
          "height": 35
        },
        "id": "RsK5PK8rvIkp",
        "outputId": "8535080d-8e39-47b0-f64a-51ff47bd69c6"
      },
      "execution_count": 13,
      "outputs": [
        {
          "output_type": "execute_result",
          "data": {
            "text/plain": [
              "'f'"
            ],
            "application/vnd.google.colaboratory.intrinsic+json": {
              "type": "string"
            }
          },
          "metadata": {},
          "execution_count": 13
        }
      ]
    },
    {
      "cell_type": "code",
      "source": [
        "from array import array\n",
        "a = array('i', [4,5,6,7])\n",
        "a.insert(1,2)\n",
        "a"
      ],
      "metadata": {
        "colab": {
          "base_uri": "https://localhost:8080/"
        },
        "id": "9Uf9Ebk1uDoI",
        "outputId": "c81221ee-c0bb-4cb9-8fdb-65d8732c1774"
      },
      "execution_count": 9,
      "outputs": [
        {
          "output_type": "execute_result",
          "data": {
            "text/plain": [
              "array('i', [4, 2, 5, 6, 7])"
            ]
          },
          "metadata": {},
          "execution_count": 9
        }
      ]
    },
    {
      "cell_type": "code",
      "source": [
        "a.insert(-1,0)\n",
        "a"
      ],
      "metadata": {
        "colab": {
          "base_uri": "https://localhost:8080/"
        },
        "id": "DkvlD9fWuWgR",
        "outputId": "01071374-2a3b-49f6-ce9c-ecd3b21659b6"
      },
      "execution_count": 10,
      "outputs": [
        {
          "output_type": "execute_result",
          "data": {
            "text/plain": [
              "array('i', [4, 2, 5, 6, 0, 7])"
            ]
          },
          "metadata": {},
          "execution_count": 10
        }
      ]
    },
    {
      "cell_type": "code",
      "source": [
        "a.insert(10,-1)\n",
        "a"
      ],
      "metadata": {
        "colab": {
          "base_uri": "https://localhost:8080/"
        },
        "id": "LpJWVF7vurPR",
        "outputId": "2a8ac17b-912e-484b-f9a3-28b8f469a6bf"
      },
      "execution_count": 11,
      "outputs": [
        {
          "output_type": "execute_result",
          "data": {
            "text/plain": [
              "array('i', [4, 2, 5, 6, 0, 7, -1])"
            ]
          },
          "metadata": {},
          "execution_count": 11
        }
      ]
    },
    {
      "cell_type": "markdown",
      "source": [
        "Singly Linked List"
      ],
      "metadata": {
        "id": "zCAU8Um23i8g"
      }
    },
    {
      "cell_type": "code",
      "source": [
        "class Node:\n",
        "  def __init__(self, data):\n",
        "    self.data = data\n",
        "    self.next = None\n",
        "\n",
        "class LinkedList:\n",
        "  def __init__(self):\n",
        "    self.head = None\n",
        "\n",
        "  def printlist(self):\n",
        "    temp = self.head\n",
        "    while (temp):\n",
        "      print(temp.data)\n",
        "      temp = temp.next\n",
        "\n",
        "if __name__ == '__main__':\n",
        "  llist = LinkedList()\n",
        "\n",
        "  llist.head = Node(1)\n",
        "  second = Node(2)\n",
        "  third = Node(3)\n",
        "\n",
        "  llist.head.next = second\n",
        "  second.next = third\n",
        "\n",
        "llist.printlist()"
      ],
      "metadata": {
        "colab": {
          "base_uri": "https://localhost:8080/"
        },
        "id": "lLwT-xYUvnfX",
        "outputId": "7a189cf4-953b-4de9-9710-64ed1de376c1"
      },
      "execution_count": 24,
      "outputs": [
        {
          "output_type": "stream",
          "name": "stdout",
          "text": [
            "1\n",
            "2\n",
            "3\n"
          ]
        }
      ]
    },
    {
      "cell_type": "markdown",
      "source": [
        "Doubly Linked List"
      ],
      "metadata": {
        "id": "agfrcd4yEZHh"
      }
    },
    {
      "cell_type": "code",
      "source": [
        "class Node:\n",
        "\tdef __init__(self, data):\n",
        "\t\tself.data = data\n",
        "\t\tself.next = None\n",
        "\t\tself.prev = None\n",
        "\n",
        "class DoublyLinkedList:\n",
        "\tdef __init__(self):\n",
        "\t\tself.head = None\n",
        "\n",
        "\tdef reverse(self):\n",
        "\t\ttemp = None\n",
        "\t\tcurrent = self.head\n",
        "\n",
        "\t\twhile current is not None:\n",
        "\t\t\ttemp = current.prev\n",
        "\t\t\tcurrent.prev = current.next\n",
        "\t\t\tcurrent.next = temp\n",
        "\t\t\tcurrent = current.prev\n",
        "\n",
        "\t\tif temp is not None:\n",
        "\t\t\tself.head = temp\n",
        "\n",
        "\tdef put(self, new_data):\n",
        "\t\tnew_node = Node(new_data)\n",
        "\t\tnew_node.next = self.head\n",
        "\n",
        "\t\tif self.head is not None:\n",
        "\t\t\tself.head.prev = new_node\n",
        "\n",
        "\t\tself.head = new_node\n",
        "\n",
        "\tdef printlist(self, node):\n",
        "\t\twhile(node is not None):\n",
        "\t\t\tprint(node.data, end='\\n')\n",
        "\t\t\tnode = node.next\n",
        "\n",
        "if __name__ == \"__main__\":\n",
        "\tdll = DoublyLinkedList()\n",
        "\tdll.put(3)\n",
        "\tdll.put(2)\n",
        "\tdll.put(1)\n",
        "\n",
        "\tdll.printlist(dll.head)\n",
        "\tdll.reverse()\n",
        "\tdll.printlist(dll.head)"
      ],
      "metadata": {
        "colab": {
          "base_uri": "https://localhost:8080/"
        },
        "id": "wdGYjJtmBxPX",
        "outputId": "3cfe9b03-77b2-42a0-bd52-22913caf0fe6"
      },
      "execution_count": 10,
      "outputs": [
        {
          "output_type": "stream",
          "name": "stdout",
          "text": [
            "1\n",
            "2\n",
            "3\n",
            "2\n",
            "1\n"
          ]
        }
      ]
    }
  ]
}
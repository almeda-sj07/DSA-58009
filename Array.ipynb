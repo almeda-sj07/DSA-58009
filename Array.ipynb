{
  "nbformat": 4,
  "nbformat_minor": 0,
  "metadata": {
    "colab": {
      "provenance": [],
      "authorship_tag": "ABX9TyOk+KrccpMkSL9FDd1w1iXY",
      "include_colab_link": true
    },
    "kernelspec": {
      "name": "python3",
      "display_name": "Python 3"
    },
    "language_info": {
      "name": "python"
    }
  },
  "cells": [
    {
      "cell_type": "markdown",
      "metadata": {
        "id": "view-in-github",
        "colab_type": "text"
      },
      "source": [
        "<a href=\"https://colab.research.google.com/github/almeda-sj07/DSA-58009/blob/main/Array.ipynb\" target=\"_parent\"><img src=\"https://colab.research.google.com/assets/colab-badge.svg\" alt=\"Open In Colab\"/></a>"
      ]
    },
    {
      "cell_type": "code",
      "execution_count": null,
      "metadata": {
        "id": "iEYV8puoPToh"
      },
      "outputs": [],
      "source": [
        "animal1 = \"cat\"\n",
        "animal2 = \"dog\"\n",
        "animal3 = \"fish\""
      ]
    },
    {
      "cell_type": "markdown",
      "source": [
        "Accessing the Elements in the Array"
      ],
      "metadata": {
        "id": "WSSVg-rPRyUt"
      }
    },
    {
      "cell_type": "code",
      "source": [
        "animals = [\"cat\",\"dog\",\"fish\"]\n",
        "x = animals[0]\n",
        "print(x)"
      ],
      "metadata": {
        "colab": {
          "base_uri": "https://localhost:8080/"
        },
        "id": "BeGNxm2NQMp_",
        "outputId": "158bca26-4bcd-4968-967d-00df68be0f84"
      },
      "execution_count": null,
      "outputs": [
        {
          "output_type": "stream",
          "name": "stdout",
          "text": [
            "cat\n"
          ]
        }
      ]
    },
    {
      "cell_type": "markdown",
      "source": [
        "Modifying the Elements in the Array"
      ],
      "metadata": {
        "id": "auvXQrdJR28O"
      }
    },
    {
      "cell_type": "code",
      "source": [
        "animals = [\"cat\",\"dog\",\"fish\"]\n",
        "animals[0] = \"monkey\"\n",
        "print(animals)"
      ],
      "metadata": {
        "colab": {
          "base_uri": "https://localhost:8080/"
        },
        "id": "WeccyOU8QXHg",
        "outputId": "e66b341d-ccef-41cf-eb45-938e723a5a62"
      },
      "execution_count": null,
      "outputs": [
        {
          "output_type": "stream",
          "name": "stdout",
          "text": [
            "['monkey', 'dog', 'fish']\n"
          ]
        }
      ]
    },
    {
      "cell_type": "markdown",
      "source": [
        "Length of an Array"
      ],
      "metadata": {
        "id": "noDxTg9NR6HF"
      }
    },
    {
      "cell_type": "code",
      "source": [
        "animals = [\"cat\",\"dog\",\"fish\"]\n",
        "x = len(animals)\n",
        "print(x)"
      ],
      "metadata": {
        "colab": {
          "base_uri": "https://localhost:8080/"
        },
        "id": "JRqTloJDQky_",
        "outputId": "44dbdc7a-0044-4554-eec4-c832e6741eeb"
      },
      "execution_count": null,
      "outputs": [
        {
          "output_type": "stream",
          "name": "stdout",
          "text": [
            "3\n"
          ]
        }
      ]
    },
    {
      "cell_type": "markdown",
      "source": [
        "Looping Array Elements"
      ],
      "metadata": {
        "id": "AOKvk0X8R8Pt"
      }
    },
    {
      "cell_type": "code",
      "source": [
        "animals = [\"cat\",\"dog\",\"fish\"]\n",
        "for x in animals:\n",
        "  print(x)"
      ],
      "metadata": {
        "colab": {
          "base_uri": "https://localhost:8080/"
        },
        "id": "bPzj6QvEQzFF",
        "outputId": "de9390cf-df78-448d-95ee-da3a0aefab34"
      },
      "execution_count": null,
      "outputs": [
        {
          "output_type": "stream",
          "name": "stdout",
          "text": [
            "cat\n",
            "dog\n",
            "fish\n"
          ]
        }
      ]
    },
    {
      "cell_type": "markdown",
      "source": [
        "Adding Elements in the Array"
      ],
      "metadata": {
        "id": "_nK9rbVWR_jd"
      }
    },
    {
      "cell_type": "code",
      "source": [
        "animals = [\"cat\",\"dog\",\"fish\"]\n",
        "animals.append(\"monkey\")\n",
        "print(animals)"
      ],
      "metadata": {
        "colab": {
          "base_uri": "https://localhost:8080/"
        },
        "id": "FdDe_pYKQ692",
        "outputId": "5c5561b2-9042-4bfc-e134-6e030bfeecc9"
      },
      "execution_count": null,
      "outputs": [
        {
          "output_type": "stream",
          "name": "stdout",
          "text": [
            "['cat', 'dog', 'fish', 'monkey']\n"
          ]
        }
      ]
    },
    {
      "cell_type": "markdown",
      "source": [
        "Insertion"
      ],
      "metadata": {
        "id": "goYkx8gLZmnl"
      }
    },
    {
      "cell_type": "code",
      "source": [
        "animals = [\"cat\",\"dog\",\"fish\"]\n",
        "animals.insert(1, \"monkey\")\n",
        "print(animals)"
      ],
      "metadata": {
        "colab": {
          "base_uri": "https://localhost:8080/"
        },
        "id": "vOzWJwNDZosk",
        "outputId": "a9217db7-e060-4b70-aebc-9bcb5ae5311e"
      },
      "execution_count": null,
      "outputs": [
        {
          "output_type": "stream",
          "name": "stdout",
          "text": [
            "['cat', 'monkey', 'dog', 'fish']\n"
          ]
        }
      ]
    },
    {
      "cell_type": "markdown",
      "source": [
        "Removing an Element in the Array"
      ],
      "metadata": {
        "id": "DjfbxOYMSB7V"
      }
    },
    {
      "cell_type": "code",
      "source": [
        "animals = [\"cat\",\"dog\",\"fish\"]\n",
        "animals.pop(1)\n",
        "print(animals)"
      ],
      "metadata": {
        "colab": {
          "base_uri": "https://localhost:8080/"
        },
        "id": "g4k2zrwBRD3-",
        "outputId": "45666bcd-615b-4517-e364-7924a80c988b"
      },
      "execution_count": null,
      "outputs": [
        {
          "output_type": "stream",
          "name": "stdout",
          "text": [
            "['cat', 'fish']\n"
          ]
        }
      ]
    },
    {
      "cell_type": "markdown",
      "source": [
        "Deletion"
      ],
      "metadata": {
        "id": "5jWf1vrdaJD0"
      }
    },
    {
      "cell_type": "code",
      "source": [
        "animals = [\"cat\",\"dog\",\"fish\"]\n",
        "animals.remove(\"fish\")\n",
        "print(animals)"
      ],
      "metadata": {
        "colab": {
          "base_uri": "https://localhost:8080/"
        },
        "id": "MJX7UXRwaKPE",
        "outputId": "54e83298-7641-4420-857c-b3d61418a3ff"
      },
      "execution_count": null,
      "outputs": [
        {
          "output_type": "stream",
          "name": "stdout",
          "text": [
            "['cat', 'dog']\n"
          ]
        }
      ]
    },
    {
      "cell_type": "markdown",
      "source": [
        "Sorting"
      ],
      "metadata": {
        "id": "D9smf9Vqaolj"
      }
    },
    {
      "cell_type": "code",
      "source": [
        "animals = [\"monkey\",\"cat\",\"dog\",\"fish\"]\n",
        "animals.sort()\n",
        "print(animals)"
      ],
      "metadata": {
        "colab": {
          "base_uri": "https://localhost:8080/"
        },
        "id": "vrpfIAIgapvD",
        "outputId": "702d4e86-6f85-4610-f6a6-1e7d419ce252"
      },
      "execution_count": null,
      "outputs": [
        {
          "output_type": "stream",
          "name": "stdout",
          "text": [
            "['cat', 'dog', 'fish', 'monkey']\n"
          ]
        }
      ]
    },
    {
      "cell_type": "markdown",
      "source": [
        "Reverse"
      ],
      "metadata": {
        "id": "w3dunmplbDtM"
      }
    },
    {
      "cell_type": "code",
      "source": [
        "animals = [\"cat\",\"dog\",\"fish\"]\n",
        "animals.reverse()\n",
        "print(animals)"
      ],
      "metadata": {
        "colab": {
          "base_uri": "https://localhost:8080/"
        },
        "id": "1ejC0TipbF3c",
        "outputId": "1eadd471-f82d-48c8-bacd-7ad782c8db79"
      },
      "execution_count": 23,
      "outputs": [
        {
          "output_type": "stream",
          "name": "stdout",
          "text": [
            "['fish', 'dog', 'cat']\n"
          ]
        }
      ]
    }
  ]
}
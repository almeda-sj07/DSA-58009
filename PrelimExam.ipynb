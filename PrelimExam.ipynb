{
  "nbformat": 4,
  "nbformat_minor": 0,
  "metadata": {
    "colab": {
      "provenance": [],
      "authorship_tag": "ABX9TyNxInIqSLjhJozaAD9O4wMe",
      "include_colab_link": true
    },
    "kernelspec": {
      "name": "python3",
      "display_name": "Python 3"
    },
    "language_info": {
      "name": "python"
    }
  },
  "cells": [
    {
      "cell_type": "markdown",
      "metadata": {
        "id": "view-in-github",
        "colab_type": "text"
      },
      "source": [
        "<a href=\"https://colab.research.google.com/github/almeda-sj07/DSAA-58009/blob/main/PrelimExam.ipynb\" target=\"_parent\"><img src=\"https://colab.research.google.com/assets/colab-badge.svg\" alt=\"Open In Colab\"/></a>"
      ]
    },
    {
      "cell_type": "markdown",
      "source": [
        "Question 2. Create the source code for adding the test scores 26, 49, 98, 87, 62, 75 and sort the test scores in ascending order"
      ],
      "metadata": {
        "id": "6k3QOMx94Iyy"
      }
    },
    {
      "cell_type": "code",
      "execution_count": 22,
      "metadata": {
        "colab": {
          "base_uri": "https://localhost:8080/"
        },
        "id": "UNW1s5xAudPY",
        "outputId": "5bd67b82-8a30-41e9-c14d-cb14ec940ae9"
      },
      "outputs": [
        {
          "output_type": "stream",
          "name": "stdout",
          "text": [
            "The total of the scores is 397\n",
            "The sorted array is [26, 49, 62, 75, 87, 98]\n"
          ]
        }
      ],
      "source": [
        "arr = [26,49,98,87,62,75]\n",
        "\n",
        "total = arr[0]+arr[1]+arr[2]+arr[3]+arr[4]+arr[5]\n",
        "arr.sort()\n",
        "\n",
        "print(\"The total of the scores is\",total)\n",
        "print(\"The sorted array is\",arr)"
      ]
    }
  ]
}
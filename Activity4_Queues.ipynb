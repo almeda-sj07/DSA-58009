{
  "nbformat": 4,
  "nbformat_minor": 0,
  "metadata": {
    "colab": {
      "provenance": [],
      "authorship_tag": "ABX9TyPZT33Q4pTWNBrzheaAWxO6",
      "include_colab_link": true
    },
    "kernelspec": {
      "name": "python3",
      "display_name": "Python 3"
    },
    "language_info": {
      "name": "python"
    }
  },
  "cells": [
    {
      "cell_type": "markdown",
      "metadata": {
        "id": "view-in-github",
        "colab_type": "text"
      },
      "source": [
        "<a href=\"https://colab.research.google.com/github/almeda-sj07/DSAA-58009/blob/main/Activity4_Queues.ipynb\" target=\"_parent\"><img src=\"https://colab.research.google.com/assets/colab-badge.svg\" alt=\"Open In Colab\"/></a>"
      ]
    },
    {
      "cell_type": "code",
      "execution_count": 5,
      "metadata": {
        "colab": {
          "base_uri": "https://localhost:8080/"
        },
        "id": "GjCfOrs1pYZG",
        "outputId": "0061a012-29d4-42aa-d7e8-eb88755ad3dd"
      },
      "outputs": [
        {
          "output_type": "stream",
          "name": "stdout",
          "text": [
            "Coffee drink orders: ['espresso', 'latte', 'macchiato', 'cappuccino', 'iced coffee'] \n",
            "\n",
            "Order received: espresso\n",
            "Order received: latte\n",
            "Order received: macchiato\n",
            "Remaining coffee drink orders: ['cappuccino', 'iced coffee'] \n",
            "\n",
            "New order: affogato\n",
            "Coffee drink orders: ['cappuccino', 'iced coffee', 'affogato']\n"
          ]
        }
      ],
      "source": [
        "coffee_orders = []\n",
        "cf_or = coffee_orders\n",
        "\n",
        "cf_or.append('espresso')\n",
        "cf_or.append('latte')\n",
        "cf_or.append('macchiato')\n",
        "cf_or.append('cappuccino')\n",
        "cf_or.append('iced coffee')\n",
        "\n",
        "print(\"Coffee drink orders:\",cf_or,\"\\n\")\n",
        "\n",
        "print(\"Order received:\",cf_or.pop(0))\n",
        "print(\"Order received:\",cf_or.pop(0))\n",
        "print(\"Order received:\",cf_or.pop(0))\n",
        "print(\"Remaining coffee drink orders:\",cf_or,\"\\n\")\n",
        "\n",
        "print(\"New order: affogato\")\n",
        "cf_or.append('affogato')\n",
        "print(\"Coffee drink orders:\",cf_or)"
      ]
    }
  ]
}